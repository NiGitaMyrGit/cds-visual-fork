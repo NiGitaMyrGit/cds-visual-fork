{
 "cells": [
  {
   "cell_type": "markdown",
   "metadata": {},
   "source": [
    "# Basic Image Processing with ```OpenCV```"
   ]
  },
  {
   "cell_type": "markdown",
   "metadata": {},
   "source": [
    "In this session, we'll be looking at how to explore the different colour channels that comprise an image.\n",
    "\n",
    "By the end of this class, you'll be able to extract colour histograms from images and qualitatively compare the results."
   ]
  },
  {
   "cell_type": "code",
   "execution_count": null,
   "metadata": {
    "tags": []
   },
   "outputs": [
    {
     "ename": "",
     "evalue": "",
     "output_type": "error",
     "traceback": [
      "\u001b[1;31mFailed to start the Kernel. \n",
      "\u001b[1;31mJupyter server crashed. Unable to connect. \n",
      "\u001b[1;31mError code from Jupyter: 1\n",
      "\u001b[1;31musage: jupyter.py [-h] [--version] [--config-dir] [--data-dir] [--runtime-dir]\n",
      "\u001b[1;31m                  [--paths] [--json] [--debug]\n",
      "\u001b[1;31m                  [subcommand]\n",
      "\u001b[1;31m\n",
      "\u001b[1;31mJupyter: Interactive Computing\n",
      "\u001b[1;31m\n",
      "\u001b[1;31mpositional arguments:\n",
      "\u001b[1;31m  subcommand     the subcommand to launch\n",
      "\u001b[1;31m\n",
      "\u001b[1;31moptions:\n",
      "\u001b[1;31m  -h, --help     show this help message and exit\n",
      "\u001b[1;31m  --version      show the versions of core jupyter packages and exit\n",
      "\u001b[1;31m  --config-dir   show Jupyter config dir\n",
      "\u001b[1;31m  --data-dir     show Jupyter data dir\n",
      "\u001b[1;31m  --runtime-dir  show Jupyter runtime dir\n",
      "\u001b[1;31m  --paths        show all Jupyter paths. Add --json for machine-readable\n",
      "\u001b[1;31m                 format.\n",
      "\u001b[1;31m  --json         output paths as machine-readable json\n",
      "\u001b[1;31m  --debug        output debug information about paths\n",
      "\u001b[1;31m\n",
      "\u001b[1;31mAvailable subcommands: kernel kernelspec migrate run troubleshoot\n",
      "\u001b[1;31m\n",
      "\u001b[1;31mJupyter command `jupyter-notebook` not found. \n",
      "\u001b[1;31mView Jupyter <a href='command:jupyter.viewOutput'>log</a> for further details."
     ]
    }
   ],
   "source": [
    "# We need to include the home directory in our path, so we can read in our own module.\n",
    "import os\n",
    "\n",
    "# image processing tools\n",
    "import cv2\n",
    "import numpy as np\n",
    "\n",
    "# utility functions for this course\n",
    "import sys\n",
    "sys.path.append(os.path.join(\"..\"))\n",
    "from utils.imutils import jimshow\n",
    "from utils.imutils import jimshow_channel\n",
    "\n",
    "# plotting tool\n",
    "import matplotlib.pyplot as plt"
   ]
  },
  {
   "cell_type": "markdown",
   "metadata": {},
   "source": [
    "## Loading an image\n",
    "\n",
    "We'll start by loading an image to work with - we're going to use the image in [data/img](../data/img/) called ```terasse.jpeg```."
   ]
  },
  {
   "cell_type": "code",
   "execution_count": null,
   "metadata": {
    "tags": []
   },
   "outputs": [],
   "source": [
    "# define filepath\n",
    "filename = os.path.join(\"..\", \"data\", \"img\", \"terasse.jpeg\")"
   ]
  },
  {
   "cell_type": "code",
   "execution_count": null,
   "metadata": {
    "tags": []
   },
   "outputs": [],
   "source": [
    "# load image\n",
    "image = cv2.imread(filename)"
   ]
  },
  {
   "cell_type": "code",
   "execution_count": null,
   "metadata": {
    "tags": []
   },
   "outputs": [],
   "source": [
    "# print the shape of this image\n",
    "image.shape"
   ]
  },
  {
   "cell_type": "code",
   "execution_count": null,
   "metadata": {
    "tags": []
   },
   "outputs": [],
   "source": [
    "# display the image\n",
    "jimshow(image)"
   ]
  },
  {
   "cell_type": "markdown",
   "metadata": {},
   "source": [
    "## Splitting channels"
   ]
  },
  {
   "cell_type": "markdown",
   "metadata": {},
   "source": [
    "We saw last week and in the lecture today how images are represented digitally as 3-dimensional ```numpy``` arrays. These 3-dimensions are ```heigh```, ```width```, and ```colour channels```.\n",
    "\n",
    "We're working primarily with RGB colour models in the course. But rememember that ```OpenCV``` represents these as BGR!"
   ]
  },
  {
   "cell_type": "code",
   "execution_count": null,
   "metadata": {
    "tags": []
   },
   "outputs": [],
   "source": [
    "# split the image into seperate colour channels called B, G, R\n",
    "(B, G, R) = cv2.split(image)"
   ]
  },
  {
   "cell_type": "code",
   "execution_count": null,
   "metadata": {
    "tags": []
   },
   "outputs": [],
   "source": [
    "# use the jimshow_channel function to display individual channels\n",
    "jimshow_channel(R, \"Red\")"
   ]
  },
  {
   "cell_type": "markdown",
   "metadata": {},
   "source": [
    "You'll notice here that the displayed image is entirely greyscale here. \n",
    "\n",
    "**Question:** In your groups, can you explain why this is the case?"
   ]
  },
  {
   "cell_type": "markdown",
   "metadata": {},
   "source": [
    "## Showing channels in colour"
   ]
  },
  {
   "cell_type": "markdown",
   "metadata": {},
   "source": [
    "If we want to display the individual colour channels using their \"real\" colours, we need to make a little bit of a workaround. \n",
    "\n",
    "Essentially, we have to manually set all of the pixels on the other channels to zero."
   ]
  },
  {
   "cell_type": "markdown",
   "metadata": {},
   "source": [
    "__Creating an empty ```numpy``` array__"
   ]
  },
  {
   "cell_type": "code",
   "execution_count": null,
   "metadata": {
    "tags": []
   },
   "outputs": [],
   "source": [
    "# create an array of zeroes, uint8 = A UINT8 is an 8-bit unsigned (can ony be positive) integer \n",
    "# I want a numpy array of zeros, the two first channels is set for zeros\n",
    "# but that will ahve the same dimension as the image\n",
    "zeros = np.zeros(image.shape[:2], dtype = \"uint8\")"
   ]
  },
  {
   "cell_type": "markdown",
   "metadata": {},
   "source": [
    "We then use this array to create an artificial image comprising the colour channel we want to see, with all zeroes on the other channels."
   ]
  },
  {
   "cell_type": "code",
   "execution_count": null,
   "metadata": {
    "tags": []
   },
   "outputs": [],
   "source": [
    "# A mistake, remember the RGB in python is BGR\n",
    "# we can replace two of the channels with the zero array\n",
    "# gives us a red image, dince it is placed on the red channel!\n",
    "jimshow(cv2.merge([zeros, zeros, B]))"
   ]
  },
  {
   "cell_type": "code",
   "execution_count": null,
   "metadata": {},
   "outputs": [],
   "source": [
    "# show only the blue blue instead \n",
    "jimshow(cv2.merge([B , zeros, zeros]))"
   ]
  },
  {
   "cell_type": "code",
   "execution_count": null,
   "metadata": {
    "tags": []
   },
   "outputs": [],
   "source": [
    "# show only green\n",
    "jimshow(cv2.merge([zeros, G, zeros]))"
   ]
  },
  {
   "cell_type": "code",
   "execution_count": null,
   "metadata": {
    "tags": []
   },
   "outputs": [],
   "source": [
    "# show only red\n",
    "jimshow(cv2.merge([zeros, zeros, R]))"
   ]
  },
  {
   "attachments": {},
   "cell_type": "markdown",
   "metadata": {},
   "source": [
    "It is sometimes easier for the computer to detect images in greyscale: edges. Eg. in the blue picture it's very hard to differentiate the "
   ]
  },
  {
   "attachments": {},
   "cell_type": "markdown",
   "metadata": {},
   "source": []
  },
  {
   "cell_type": "markdown",
   "metadata": {},
   "source": [
    "## Histograms"
   ]
  },
  {
   "cell_type": "markdown",
   "metadata": {},
   "source": [
    "In order to create a 1D (greyscale) histogram, we first need to manually convert the image to greyscale.\n",
    "\n",
    "We can do this in open CV using the function ```cv2.cvtColor()```."
   ]
  },
  {
   "cell_type": "code",
   "execution_count": null,
   "metadata": {
    "tags": []
   },
   "outputs": [],
   "source": [
    "# converting to greyscale\n",
    "#  RGB[A] to gray: Y <-0.299*R+0.587*G+0.114*B \n",
    "# this means it isn't entirely a right grey scale\n",
    "# it is a manipulations of mixing the different colours to become gray\n",
    "# weird gray scale, some of the definition is lost -> kind of \n",
    "greyed_image = cv2.cvtColor(image, cv2.COLOR_BGR2GRAY)"
   ]
  },
  {
   "cell_type": "markdown",
   "metadata": {},
   "source": [
    "__A note on ```COLOR_BRG2GRAY```__"
   ]
  },
  {
   "cell_type": "code",
   "execution_count": null,
   "metadata": {},
   "outputs": [],
   "source": [
    "jimshow_channel(greyed_image, \"Greyscale\")"
   ]
  },
  {
   "cell_type": "markdown",
   "metadata": {},
   "source": [
    "## A quick greyscale histogram using ```matplotlib```\n",
    "\n",
    "We're going to learn two things here: 1) how to use the Python plotting library ```matplotlib```; 2) how to create quick greyscale histograms."
   ]
  },
  {
   "cell_type": "code",
   "execution_count": null,
   "metadata": {},
   "outputs": [],
   "source": [
    "# the primary distinction between matplotlib and R's ggplot2 is the grammar\n",
    "# figure contains axis, axis contains plots, plots contains information"
   ]
  },
  {
   "cell_type": "code",
   "execution_count": null,
   "metadata": {
    "tags": []
   },
   "outputs": [],
   "source": [
    "# plotting with matplotlib\n",
    "# Create figure, making new object 'fig'\n",
    "fig = plt.figure()\n",
    "# Add histogram to figure (particular axis = plt.hist) \n",
    "# instead of having a single axis\n",
    "# we can have figure containing multiple axis and how we want them arranged\n",
    "# image.flatten -> compress it into a single dimension\n",
    "# compressing the three colours channels into one long array\n",
    "# plt.hist: bin the data in x and count the number of values in each bin\n",
    "ax = plt.hist(image.flatten(), 256, [0,256])\n",
    "# Plot title\n",
    "plt.title(\"Greyscale histogram\")\n",
    "plt.xlabel(\"Bins\")\n",
    "plt.ylabel(\"# of Pixels\")\n",
    "plt.show()\n",
    "#Saving the figure as an image\n",
    "#creating the outpath to the fil\n",
    "outpath = os.path.join(\"..\"\"folder\")\n",
    "# the save function\n",
    "fig.savefig(\"outpath\")"
   ]
  },
  {
   "cell_type": "code",
   "execution_count": null,
   "metadata": {},
   "outputs": [],
   "source": [
    "image.flatten().shape"
   ]
  },
  {
   "cell_type": "markdown",
   "metadata": {},
   "source": [
    "## Plotting color histograms"
   ]
  },
  {
   "cell_type": "markdown",
   "metadata": {},
   "source": [
    "```OpenCV``` has a built in tool for extraction histograms for specific colour channels. Unfortunately, the syntax is quite confusing! If you look at the documentation, you'll see something like this:"
   ]
  },
  {
   "cell_type": "markdown",
   "metadata": {},
   "source": [
    "```cv2.calcHist(images, channels, mask, histSize, ranges[, hist[, accumulate]])```\n",
    "\n",
    "But we can unpack this a little in the following way:\n",
    "\n",
    "- **images** : it is the **source image** of type *uint8* or *float32* represented as “[img]”.\n",
    "- **channels** : it is the **index of channel** for which we calculate histogram. \n",
    "    - For *grayscale image*, its value is [0] and\n",
    "    - *color image*, you can pass [0], [1] or [2] to calculate histogram of blue, green or red channel respectively.\n",
    "- **mask** : **mask image.** To find histogram of full image, it is given as “None”.\n",
    "- **histSize** : this represents our **BIN count.** For full scale, we pass [256].\n",
    "- **ranges** : this is our **RANGE.** Normally, it is [0,256]."
   ]
  },
  {
   "cell_type": "markdown",
   "metadata": {},
   "source": [
    "__Plot only blue__"
   ]
  },
  {
   "cell_type": "code",
   "execution_count": null,
   "metadata": {},
   "outputs": [],
   "source": [
    "hist = cv2.calcHist([image], [0], None, [256], [0,256])\n",
    "plt.plot(hist, color=\"Blue\")"
   ]
  },
  {
   "cell_type": "markdown",
   "metadata": {},
   "source": [
    "__Plot only green__"
   ]
  },
  {
   "cell_type": "code",
   "execution_count": null,
   "metadata": {},
   "outputs": [],
   "source": [
    "hist = cv2.calcHist([image], [1], None, [256], [0,256])\n",
    "plt.plot(hist, color=\"Green\")"
   ]
  },
  {
   "cell_type": "markdown",
   "metadata": {},
   "source": [
    "__Plot only red__"
   ]
  },
  {
   "cell_type": "code",
   "execution_count": null,
   "metadata": {},
   "outputs": [],
   "source": [
    "hist = cv2.calcHist([image], [2], None, [256], [0,256])\n",
    "plt.plot(hist, color=\"Red\")"
   ]
  },
  {
   "cell_type": "markdown",
   "metadata": {},
   "source": [
    "__An alternative approach__"
   ]
  },
  {
   "cell_type": "code",
   "execution_count": null,
   "metadata": {},
   "outputs": [],
   "source": [
    "(BLUE, GREEN, RED) = cv2.split(image)"
   ]
  },
  {
   "cell_type": "code",
   "execution_count": null,
   "metadata": {},
   "outputs": [],
   "source": [
    "hist = cv2.calcHist([RED], [0], None, [256], [0,256])\n",
    "plt.plot(hist, color=\"r\")"
   ]
  },
  {
   "cell_type": "code",
   "execution_count": null,
   "metadata": {
    "tags": []
   },
   "outputs": [],
   "source": [
    "# split channels\n",
    "channels = cv2.split(image)\n",
    "# names of colours\n",
    "colors = (\"b\", \"g\", \"r\")\n",
    "# create plot\n",
    "plt.figure()\n",
    "# add title\n",
    "plt.title(\"Histogram\")\n",
    "# Add xlabel\n",
    "plt.xlabel(\"Bins\")\n",
    "# Add ylabel\n",
    "plt.ylabel(\"# of Pixels\")\n",
    "\n",
    "# for every tuple of channel, colour\n",
    "for (channel, color) in zip(channels, colors):\n",
    "    # Create a histogram\n",
    "    hist = cv2.calcHist([channel], [0], None, [256], [0, 256])\n",
    "    # Plot histogram\n",
    "    plt.plot(hist, color=color)\n",
    "    # Set limits of x-axis\n",
    "    plt.xlim([0, 256])\n",
    "# Show plot\n",
    "plt.show()"
   ]
  },
  {
   "cell_type": "markdown",
   "metadata": {},
   "source": [
    "## Exercise\n",
    "\n",
    "We've now seen how to load images and split them into their separate colour channels. We've also seen how we can use this to extract colour histograms showing distributions of pixel intensities across each channel. Lastly we've seen how we can use this to plot colour histograms for any given image.\n",
    "\n",
    "- In your groups, rework the code from today to create and save colour histograms for each of the images in the data folder."
   ]
  }
 ],
 "metadata": {
  "kernelspec": {
   "display_name": "Python 3 (ipykernel)",
   "language": "python",
   "name": "python3"
  },
  "language_info": {
   "codemirror_mode": {
    "name": "ipython",
    "version": 3
   },
   "file_extension": ".py",
   "mimetype": "text/x-python",
   "name": "python",
   "nbconvert_exporter": "python",
   "pygments_lexer": "ipython3",
   "version": "3.11.2 (v3.11.2:878ead1ac1, Feb  7 2023, 10:02:41) [Clang 13.0.0 (clang-1300.0.29.30)]"
  },
  "vscode": {
   "interpreter": {
    "hash": "aee8b7b246df8f9039afb4144a1f6fd8d2ca17a180786b69acc140d282b71a49"
   }
  }
 },
 "nbformat": 4,
 "nbformat_minor": 4
}
